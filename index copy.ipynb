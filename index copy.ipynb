{
 "cells": [
  {
   "cell_type": "markdown",
   "metadata": {},
   "source": [
    "TM: karu samuel\n",
    "\n",
    "date: 10/10/2023\n",
    "\n",
    "lecture: Introduction to Big Data Concepts and Tools"
   ]
  },
  {
   "cell_type": "markdown",
   "metadata": {},
   "source": [
    "# Big Data"
   ]
  },
  {
   "cell_type": "markdown",
   "metadata": {},
   "source": [
    "Big data refers to extremely large and complex sets of data that traditional data processing methods and software tools are inadequate to handle. These data sets are characterized by what is often referred to as the \"three Vs\":\n",
    "\n",
    "**Volume**: Big data involves vast amounts of information. This can range from terabytes to petabytes and even exabytes of data.\n",
    "\n",
    "**Velocity**: It refers to the speed at which data is generated, collected, and processed. In many cases, big data is generated in real-time or near-real-time, such as data from social media, sensors, or financial transactions.\n",
    "\n",
    "**Variety**: Big data comes in various forms, including structured data (like databases and spreadsheets), semi-structured data (like JSON or XML files), and unstructured data (like text, images, videos, etc.).\n",
    "\n",
    "*Additionally, some sources add more Vs to the definition, like:*\n",
    "\n",
    "**Veracity**: This refers to the reliability and accuracy of the data. With big data, the quality and accuracy of the data can sometimes be uncertain.\n",
    "\n",
    "**Value**: The value of big data comes from the insights that can be extracted from it. The goal is to turn this data into actionable information that can be used to make informed decisions.\n",
    "\n"
   ]
  },
  {
   "cell_type": "markdown",
   "metadata": {},
   "source": [
    "# Why Big data"
   ]
  },
  {
   "cell_type": "markdown",
   "metadata": {},
   "source": [
    "Big data is crucial for a variety of reasons, and its importance continues to grow as technology advances. Here are some key reasons why big data is significant:\n",
    "\n",
    "**Informed Decision-Making:**\n",
    "\n",
    "Big data provides valuable insights that can be used to make informed and data-driven decisions. This is especially important for businesses looking to gain a competitive edge and optimize their operations.\n",
    "\n",
    "**Identifying Trends and Patterns:**\n",
    "\n",
    "Analyzing big data allows organizations to detect trends and patterns that may not be apparent in smaller data sets. This can lead to the discovery of new opportunities or the identification of potential issues.\n",
    "\n",
    "**Improved Customer Experience:**\n",
    "\n",
    "Understanding customer behavior through big data analytics enables businesses to tailor products, services, and marketing efforts to meet specific customer needs and preferences.\n",
    "\n",
    "**Enhancing Product Development:**\n",
    "\n",
    "By analyzing customer feedback, usage patterns, and market trends, companies can develop products and services that better align with customer demands.\n",
    "\n",
    "\n",
    "**Scientific Research and Exploration:**\n",
    "\n",
    " In fields like astronomy, genomics, and climate science, big data is essential for analyzing massive sets of data to gain a deeper understanding of complex phenomena.\n",
    "\n",
    "**Fraud Detection and Security:**\n",
    "\n",
    " Big data analytics can help identify unusual patterns in financial transactions, network traffic, or user behavior, which can be indicative of fraudulent activities.\n"
   ]
  },
  {
   "cell_type": "markdown",
   "metadata": {},
   "source": [
    "# Big data sources "
   ]
  },
  {
   "cell_type": "markdown",
   "metadata": {},
   "source": [
    "Big data can be sourced from a wide variety of places, and it encompasses data generated from digital and physical activities across various industries. Here are some common sources of big data:\n",
    "\n",
    "**Social Media:**\n",
    "\n",
    " Platforms like Facebook, Twitter, Instagram, and LinkedIn generate massive amounts of data every second. This includes posts, comments, likes, shares, and user interactions.\n",
    "\n",
    "**Websites and Web Applications:**\n",
    "\n",
    " Data from website traffic, user interactions, clickstreams, and online transactions provide valuable information about user behavior.\n",
    "\n",
    "**Mobile Devices and Apps:**\n",
    "\n",
    " Mobile apps collect data on user interactions, location, preferences, and device usage. This can include information from GPS, accelerometer, and other sensors.\n",
    "\n",
    "**Sensors and IoT Devices:**\n",
    "\n",
    " The Internet of Things (IoT) involves a network of connected devices (like sensors, cameras, and appliances) that generate data on various metrics such as temperature, humidity, motion, and more.\n",
    "\n",
    "**Satellite Imagery and Remote Sensing:**\n",
    "\n",
    " Data from satellites and remote sensors provide information on weather, climate, natural disasters, land use, and environmental changes."
   ]
  },
  {
   "cell_type": "markdown",
   "metadata": {},
   "source": [
    "# Big Data storage"
   ]
  },
  {
   "cell_type": "markdown",
   "metadata": {},
   "source": [
    "Storing and managing big data requires specialized infrastructure and technologies due to the sheer volume and complexity of the data. Here are some common methods and technologies used for big data storage:\n",
    "\n",
    "**Distributed File Systems:**\n",
    "\n",
    "Hadoop Distributed File System (HDFS): HDFS is designed to store and manage large files across a distributed cluster of commodity hardware. It's a core component of the Hadoop ecosystem.\n",
    "\n",
    "Google Cloud Storage (GCS), Amazon Simple Storage Service (S3): These are cloud-based object storage services that are highly scalable and designed for storing large amounts of data.\n",
    "\n",
    "**NoSQL Databases:**\n",
    "\n",
    "Cassandra: This is a highly scalable, distributed NoSQL database designed for handling large amounts of data across multiple nodes and clusters.\n",
    "\n",
    "MongoDB: While originally designed as a document-oriented database, MongoDB can handle large volumes of data and is suitable for big data applications.\n",
    "\n",
    "**Data Warehouses:**\n",
    "Amazon Redshift, Google BigQuery, Snowflake: These are cloud-based data warehousing solutions designed for analyzing large datasets using SQL queries.\n"
   ]
  },
  {
   "cell_type": "markdown",
   "metadata": {},
   "source": [
    "# Tools"
   ]
  },
  {
   "cell_type": "markdown",
   "metadata": {},
   "source": [
    "There are numerous tools available for processing, analyzing, and visualizing big data. Here are some of the most popular ones, categorized by their primary function:\n",
    "\n",
    "Data Processing and Storage:\n",
    "\n",
    "**Hadoop:**\n",
    "\n",
    " An open-source framework that allows for the distributed processing of large data sets across clusters of computers using simple programming models.\n",
    "\n",
    "**Apache Spark:**\n",
    "\n",
    " A powerful, fast, and general-purpose cluster-computing framework that provides in-memory data processing capabilities.\n",
    "\n",
    "**Flink:** A stream processing framework with batch processing capabilities, suitable for real-time analytics and data processing."
   ]
  },
  {
   "cell_type": "markdown",
   "metadata": {},
   "source": [
    "### Data Analytics and Machine Learning:\n",
    "\n",
    "**Python**\n",
    "\n",
    "with libraries like pandas, NumPy, and scikit-learn): Python is a versatile programming language widely used for data manipulation, analysis, and machine learning.\n",
    "\n",
    "**R:**\n",
    "\n",
    "A programming language and free software environment for statistical computing and graphics, often used for data analysis and statistical modeling.\n",
    "\n",
    "TensorFlow and PyTorch: Popular open-source libraries for machine learning, especially for deep learning.\n",
    "\n",
    "    "
   ]
  },
  {
   "cell_type": "markdown",
   "metadata": {},
   "source": [
    "### Data Visualization:\n",
    "\n",
    "**Tableau:**\n",
    "\n",
    "A widely used data visualization tool that allows users to create interactive and shareable dashboards.\n",
    "\n",
    "**Power BI:**\n",
    "\n",
    " A business analytics tool by Microsoft that provides interactive data visualization and business intelligence capabilities"
   ]
  },
  {
   "cell_type": "markdown",
   "metadata": {},
   "source": [
    "### Data Management and ETL (Extract, Transform, Load):\n",
    "\n",
    "**Apache NiFi:**\n",
    "\n",
    "An open-source data integration tool that provides an intuitive interface for designing data flows.\n",
    "\n",
    "**Talend:**\n",
    "\n",
    " An open-source data integration platform that provides a wide range of ETL and data integration capabilities."
   ]
  },
  {
   "cell_type": "markdown",
   "metadata": {},
   "source": [
    "### Data Governance and Quality:\n",
    "\n",
    "**Apache Atlas:**\n",
    "\n",
    " An open-source data governance and metadata framework for Hadoop.\n",
    "\n",
    "**Trifacta:**\n",
    "\n",
    " A data preparation platform that helps to clean, enrich, and transform raw data into a format suitable for analysis."
   ]
  },
  {
   "cell_type": "markdown",
   "metadata": {},
   "source": [
    "# Big data Practical example"
   ]
  },
  {
   "cell_type": "markdown",
   "metadata": {},
   "source": [
    "## Step 1: Creating a SparkSession"
   ]
  },
  {
   "cell_type": "code",
   "execution_count": 1,
   "metadata": {},
   "outputs": [],
   "source": [
    "# import pysSpark,sparkSession\n",
    "\n",
    "import pyspark\n",
    "from pyspark.sql import SparkSession"
   ]
  },
  {
   "cell_type": "code",
   "execution_count": 2,
   "metadata": {},
   "outputs": [
    {
     "name": "stderr",
     "output_type": "stream",
     "text": [
      "Setting default log level to \"WARN\".\n",
      "To adjust logging level use sc.setLogLevel(newLevel). For SparkR, use setLogLevel(newLevel).\n",
      "23/10/10 16:16:23 WARN NativeCodeLoader: Unable to load native-hadoop library for your platform... using builtin-java classes where applicable\n"
     ]
    }
   ],
   "source": [
    "# initialize spark session\n",
    "spark = SparkSession.builder.appName(\"E-commerce App\").config(\"spark.memory.offHeap.enabled\",\"true\").config('spark.sql.legacy.timeParserPolicy','LEGACY').config(\"spark.memory.offHeap.size\",\"10g\").getOrCreate()"
   ]
  },
  {
   "cell_type": "markdown",
   "metadata": {},
   "source": [
    "## Step 2: Creating the DataFrame"
   ]
  },
  {
   "cell_type": "code",
   "execution_count": 3,
   "metadata": {},
   "outputs": [],
   "source": [
    "# load data\n",
    "df = spark.read.csv('./data/e-commerce_data.csv',header=True,escape=\"\\\"\")"
   ]
  },
  {
   "cell_type": "code",
   "execution_count": 4,
   "metadata": {},
   "outputs": [
    {
     "name": "stdout",
     "output_type": "stream",
     "text": [
      "+---------+---------+-----------------------------------+--------+------------+---------+----------+--------------+\n",
      "|InvoiceNo|StockCode|Description                        |Quantity|InvoiceDate |UnitPrice|CustomerID|Country       |\n",
      "+---------+---------+-----------------------------------+--------+------------+---------+----------+--------------+\n",
      "|536365   |85123A   |WHITE HANGING HEART T-LIGHT HOLDER |6       |12/1/10 8:26|2.55     |17850     |United Kingdom|\n",
      "|536365   |71053    |WHITE METAL LANTERN                |6       |12/1/10 8:26|3.39     |17850     |United Kingdom|\n",
      "|536365   |84406B   |CREAM CUPID HEARTS COAT HANGER     |8       |12/1/10 8:26|2.75     |17850     |United Kingdom|\n",
      "|536365   |84029G   |KNITTED UNION FLAG HOT WATER BOTTLE|6       |12/1/10 8:26|3.39     |17850     |United Kingdom|\n",
      "|536365   |84029E   |RED WOOLLY HOTTIE WHITE HEART.     |6       |12/1/10 8:26|3.39     |17850     |United Kingdom|\n",
      "+---------+---------+-----------------------------------+--------+------------+---------+----------+--------------+\n",
      "only showing top 5 rows\n",
      "\n"
     ]
    }
   ],
   "source": [
    "df.show(5,0)"
   ]
  },
  {
   "cell_type": "markdown",
   "metadata": {},
   "source": [
    "## Step 3: Exploratory Data Analysis"
   ]
  },
  {
   "cell_type": "markdown",
   "metadata": {},
   "source": [
    "Number of rows in our dataset"
   ]
  },
  {
   "cell_type": "code",
   "execution_count": 5,
   "metadata": {},
   "outputs": [
    {
     "data": {
      "text/plain": [
       "2500"
      ]
     },
     "execution_count": 5,
     "metadata": {},
     "output_type": "execute_result"
    }
   ],
   "source": [
    "# count number of rows in data set\n",
    "df.count() "
   ]
  },
  {
   "cell_type": "markdown",
   "metadata": {},
   "source": [
    "customers are present in the dataframe?"
   ]
  },
  {
   "cell_type": "code",
   "execution_count": 6,
   "metadata": {},
   "outputs": [
    {
     "data": {
      "text/plain": [
       "95"
      ]
     },
     "execution_count": 6,
     "metadata": {},
     "output_type": "execute_result"
    }
   ],
   "source": [
    "# count unique customers in our dataset\n",
    "df.select('CustomerID').distinct().count() # Answer: 95"
   ]
  },
  {
   "cell_type": "markdown",
   "metadata": {},
   "source": [
    "What country do most purchases come from?"
   ]
  },
  {
   "cell_type": "code",
   "execution_count": 7,
   "metadata": {},
   "outputs": [
    {
     "name": "stdout",
     "output_type": "stream",
     "text": [
      "+--------------+-------------+\n",
      "|       Country|country_count|\n",
      "+--------------+-------------+\n",
      "|       Germany|            2|\n",
      "|        France|            1|\n",
      "|          EIRE|            1|\n",
      "|        Norway|            1|\n",
      "|     Australia|            1|\n",
      "|United Kingdom|           88|\n",
      "|   Netherlands|            1|\n",
      "+--------------+-------------+\n",
      "\n"
     ]
    }
   ],
   "source": [
    "# imports\n",
    "from pyspark.sql.functions import *\n",
    "from pyspark.sql.types import *\n",
    "\n",
    "# find whwre most purchases come from\n",
    "\n",
    "\n",
    "\n",
    "\n",
    "df.groupBy('Country').agg(countDistinct('CustomerID').alias('country_count')).show()"
   ]
  },
  {
   "cell_type": "markdown",
   "metadata": {},
   "source": [
    " When was the most recent purchase made by a customer on the e-commerce platform?\n",
    "\n",
    "* *To find when the latest purchase was made on the platform, we need to convert the “InvoiceDate” column into a timestamp format and use the max() function in Pyspark:*"
   ]
  },
  {
   "cell_type": "code",
   "execution_count": 8,
   "metadata": {},
   "outputs": [
    {
     "name": "stdout",
     "output_type": "stream",
     "text": [
      "+-------------------+\n",
      "|          max(date)|\n",
      "+-------------------+\n",
      "|2012-01-10 17:06:00|\n",
      "+-------------------+\n",
      "\n"
     ]
    }
   ],
   "source": [
    "# find most recent purchase\n",
    "\n",
    "spark.sql(\"set spark.sql.legacy.timeParserPolicy=LEGACY\")\n",
    "df = df.withColumn('date',to_timestamp(\"InvoiceDate\", 'yy/MM/dd HH:mm'))\n",
    "df.select(max(\"date\")).show()"
   ]
  },
  {
   "cell_type": "markdown",
   "metadata": {},
   "source": [
    "## Step 4: Data Pre-processing"
   ]
  },
  {
   "cell_type": "markdown",
   "metadata": {},
   "source": [
    "The variables in this dataset are in a format that cannot be easily ingested into the customer segmentation model. These features individually do not tell us much about customer purchase behavior.\n",
    "\n",
    "Due to this, we will use the existing variables to derive three new informative features - recency, frequency, and monetary value (RFM).\n",
    "\n",
    "RFM is commonly used in marketing to evaluate a client’s value based on their:\n",
    "\n",
    "- **Recency:** \n",
    "\n",
    "    *How recently has each customer made a purchase?*\n",
    "\n",
    "- **Frequency:** \n",
    "\n",
    "    *How often have they bought something?*\n",
    "\n",
    "- **Monetary Value:** \n",
    "\n",
    "    *How much money do they spend on average when making purchases?*\n"
   ]
  },
  {
   "cell_type": "code",
   "execution_count": 9,
   "metadata": {},
   "outputs": [
    {
     "name": "stdout",
     "output_type": "stream",
     "text": [
      "+---------+---------+-----------------------------------+--------+------------+---------+----------+--------------+-------------------+\n",
      "|InvoiceNo|StockCode|Description                        |Quantity|InvoiceDate |UnitPrice|CustomerID|Country       |date               |\n",
      "+---------+---------+-----------------------------------+--------+------------+---------+----------+--------------+-------------------+\n",
      "|536365   |85123A   |WHITE HANGING HEART T-LIGHT HOLDER |6       |12/1/10 8:26|2.55     |17850     |United Kingdom|2012-01-10 08:26:00|\n",
      "|536365   |71053    |WHITE METAL LANTERN                |6       |12/1/10 8:26|3.39     |17850     |United Kingdom|2012-01-10 08:26:00|\n",
      "|536365   |84406B   |CREAM CUPID HEARTS COAT HANGER     |8       |12/1/10 8:26|2.75     |17850     |United Kingdom|2012-01-10 08:26:00|\n",
      "|536365   |84029G   |KNITTED UNION FLAG HOT WATER BOTTLE|6       |12/1/10 8:26|3.39     |17850     |United Kingdom|2012-01-10 08:26:00|\n",
      "|536365   |84029E   |RED WOOLLY HOTTIE WHITE HEART.     |6       |12/1/10 8:26|3.39     |17850     |United Kingdom|2012-01-10 08:26:00|\n",
      "+---------+---------+-----------------------------------+--------+------------+---------+----------+--------------+-------------------+\n",
      "only showing top 5 rows\n",
      "\n"
     ]
    }
   ],
   "source": [
    "# show top 5 rows\n",
    "\n",
    "df.show(5,0)"
   ]
  },
  {
   "cell_type": "markdown",
   "metadata": {},
   "source": [
    "### Recency"
   ]
  },
  {
   "cell_type": "markdown",
   "metadata": {},
   "source": [
    "i) **Assign a recency score to each customer**\n",
    "\n",
    "We will subtract every date in the dataframe from the earliest date. This will tell us how recently a customer was seen in the dataframe. A value of 0 indicates the lowest recency, as it will be assigned to the person who was seen making a purchase on the earliest date."
   ]
  },
  {
   "cell_type": "code",
   "execution_count": 10,
   "metadata": {},
   "outputs": [],
   "source": [
    "#calculate Recency\n",
    "df = df.withColumn(\"from_date\", lit(\"12/1/10 08:26\"))\n",
    "df = df.withColumn('from_date',to_timestamp(\"from_date\", 'yy/MM/dd HH:mm'))\n",
    "\n",
    "df2=df.withColumn('from_date',to_timestamp(col('from_date'))).withColumn('recency',col(\"date\").cast(\"long\") - col('from_date').cast(\"long\"))"
   ]
  },
  {
   "cell_type": "code",
   "execution_count": 11,
   "metadata": {},
   "outputs": [
    {
     "name": "stdout",
     "output_type": "stream",
     "text": [
      "+---------+---------+-----------------------------------+--------+------------+---------+----------+--------------+-------------------+-------------------+-------+\n",
      "|InvoiceNo|StockCode|Description                        |Quantity|InvoiceDate |UnitPrice|CustomerID|Country       |date               |from_date          |recency|\n",
      "+---------+---------+-----------------------------------+--------+------------+---------+----------+--------------+-------------------+-------------------+-------+\n",
      "|536365   |85123A   |WHITE HANGING HEART T-LIGHT HOLDER |6       |12/1/10 8:26|2.55     |17850     |United Kingdom|2012-01-10 08:26:00|2012-01-10 08:26:00|0      |\n",
      "|536365   |71053    |WHITE METAL LANTERN                |6       |12/1/10 8:26|3.39     |17850     |United Kingdom|2012-01-10 08:26:00|2012-01-10 08:26:00|0      |\n",
      "|536365   |84406B   |CREAM CUPID HEARTS COAT HANGER     |8       |12/1/10 8:26|2.75     |17850     |United Kingdom|2012-01-10 08:26:00|2012-01-10 08:26:00|0      |\n",
      "|536365   |84029G   |KNITTED UNION FLAG HOT WATER BOTTLE|6       |12/1/10 8:26|3.39     |17850     |United Kingdom|2012-01-10 08:26:00|2012-01-10 08:26:00|0      |\n",
      "|536365   |84029E   |RED WOOLLY HOTTIE WHITE HEART.     |6       |12/1/10 8:26|3.39     |17850     |United Kingdom|2012-01-10 08:26:00|2012-01-10 08:26:00|0      |\n",
      "+---------+---------+-----------------------------------+--------+------------+---------+----------+--------------+-------------------+-------------------+-------+\n",
      "only showing top 5 rows\n",
      "\n"
     ]
    }
   ],
   "source": [
    "df2.show(5,0)"
   ]
  },
  {
   "cell_type": "markdown",
   "metadata": {},
   "source": [
    "ii) **Select the most recent purchase**\n",
    "\n",
    "One customer can make multiple purchases at different times. We need to select only the last time they were seen buying a product, as this is indicative of when the most recent purchase was made: "
   ]
  },
  {
   "cell_type": "code",
   "execution_count": 12,
   "metadata": {},
   "outputs": [],
   "source": [
    "# Unique customer most recent purchase\n",
    "df2 = df2.join(df2.groupBy('CustomerID').agg(max('recency').alias('recency')),on='recency',how='leftsemi')"
   ]
  },
  {
   "cell_type": "code",
   "execution_count": 13,
   "metadata": {},
   "outputs": [
    {
     "data": {
      "text/plain": [
       "1743"
      ]
     },
     "execution_count": 13,
     "metadata": {},
     "output_type": "execute_result"
    }
   ],
   "source": [
    "# count rows\n",
    "df2.count()"
   ]
  },
  {
   "cell_type": "code",
   "execution_count": 14,
   "metadata": {},
   "outputs": [
    {
     "name": "stdout",
     "output_type": "stream",
     "text": [
      "+-------+---------+---------+-------------------------------+--------+------------+---------+----------+--------------+-------------------+-------------------+\n",
      "|recency|InvoiceNo|StockCode|Description                    |Quantity|InvoiceDate |UnitPrice|CustomerID|Country       |date               |from_date          |\n",
      "+-------+---------+---------+-------------------------------+--------+------------+---------+----------+--------------+-------------------+-------------------+\n",
      "|540    |536369   |21756    |BATH BUILDING BLOCK WORD       |3       |12/1/10 8:35|5.95     |13047     |United Kingdom|2012-01-10 08:35:00|2012-01-10 08:26:00|\n",
      "|1140   |536370   |22728    |ALARM CLOCK BAKELIKE PINK      |24      |12/1/10 8:45|3.75     |12583     |France        |2012-01-10 08:45:00|2012-01-10 08:26:00|\n",
      "|1140   |536370   |22727    |ALARM CLOCK BAKELIKE RED       |24      |12/1/10 8:45|3.75     |12583     |France        |2012-01-10 08:45:00|2012-01-10 08:26:00|\n",
      "|1140   |536370   |22726    |ALARM CLOCK BAKELIKE GREEN     |12      |12/1/10 8:45|3.75     |12583     |France        |2012-01-10 08:45:00|2012-01-10 08:26:00|\n",
      "|1140   |536370   |21724    |PANDA AND BUNNIES STICKER SHEET|12      |12/1/10 8:45|0.85     |12583     |France        |2012-01-10 08:45:00|2012-01-10 08:26:00|\n",
      "+-------+---------+---------+-------------------------------+--------+------------+---------+----------+--------------+-------------------+-------------------+\n",
      "only showing top 5 rows\n",
      "\n"
     ]
    }
   ],
   "source": [
    "df2.show(5,0)\n",
    "#df2.printSchema()"
   ]
  },
  {
   "cell_type": "markdown",
   "metadata": {},
   "source": [
    "### Frequency\n",
    "\n",
    "Let’s now calculate the value of frequency - how often a customer bought something on the platform. To do this, we just need to group by each customer ID and count the number of items they purchased:"
   ]
  },
  {
   "cell_type": "code",
   "execution_count": 15,
   "metadata": {},
   "outputs": [],
   "source": [
    "# count the frequency of customers\n",
    "df_freq = df2.groupBy('CustomerID').agg(count('InvoiceDate').alias('frequency'))"
   ]
  },
  {
   "cell_type": "code",
   "execution_count": 16,
   "metadata": {},
   "outputs": [
    {
     "name": "stdout",
     "output_type": "stream",
     "text": [
      "+----------+---------+\n",
      "|CustomerID|frequency|\n",
      "+----------+---------+\n",
      "|16250     |14       |\n",
      "|15100     |1        |\n",
      "|13065     |14       |\n",
      "|12838     |59       |\n",
      "|15350     |5        |\n",
      "+----------+---------+\n",
      "only showing top 5 rows\n",
      "\n"
     ]
    }
   ],
   "source": [
    "df_freq.show(5,0)"
   ]
  },
  {
   "cell_type": "markdown",
   "metadata": {},
   "source": [
    "There is a frequency value appended to each customer in the dataframe. This new dataframe only has two columns, and we need to join it with the previous one:"
   ]
  },
  {
   "cell_type": "code",
   "execution_count": 17,
   "metadata": {},
   "outputs": [],
   "source": [
    "# merge frequency dataframe to main dataframe\n",
    "\n",
    "df3 = df2.join(df_freq,on='CustomerID',how='inner')"
   ]
  },
  {
   "cell_type": "markdown",
   "metadata": {},
   "source": [
    "### Monetary Value\n",
    "\n",
    "Finally, let’s calculate monetary value - the total amount spent by each customer in the dataframe. There are two steps to achieving this:"
   ]
  },
  {
   "cell_type": "markdown",
   "metadata": {},
   "source": [
    "i) **Find the total amount spent in each purchase:**\n",
    "\n",
    "Each customerID comes with variables called “Quantity” and “UnitPrice” for a single purchase:"
   ]
  },
  {
   "cell_type": "code",
   "execution_count": 18,
   "metadata": {},
   "outputs": [],
   "source": [
    "# calcuate total amount for each purchase\n",
    "m_val = df3.withColumn('TotalAmount',col(\"Quantity\") * col(\"UnitPrice\"))"
   ]
  },
  {
   "cell_type": "markdown",
   "metadata": {},
   "source": [
    "ii) Find the total amount spent by each customer:\n",
    "\n",
    "To find the total amount spent by each customer overall, we just need to group by the CustomerID column and su"
   ]
  },
  {
   "cell_type": "code",
   "execution_count": 19,
   "metadata": {},
   "outputs": [],
   "source": [
    "# calculate total amount of each user\n",
    "m_val = m_val.groupBy('CustomerID').agg(sum('TotalAmount').alias('monetary_value'))"
   ]
  },
  {
   "cell_type": "markdown",
   "metadata": {},
   "source": [
    "Merge this dataframe with the all the other variables:"
   ]
  },
  {
   "cell_type": "code",
   "execution_count": 20,
   "metadata": {},
   "outputs": [],
   "source": [
    "# Merge Dataframe\n",
    "finaldf = m_val.join(df3,on='CustomerID',how='inner')"
   ]
  },
  {
   "cell_type": "markdown",
   "metadata": {},
   "source": [
    "Now that we have created all the necessary variables to build the model, run the following lines of code to select only the required columns and drop duplicate rows from the dataframe:"
   ]
  },
  {
   "cell_type": "code",
   "execution_count": 21,
   "metadata": {},
   "outputs": [],
   "source": [
    "# select required column\n",
    "finaldf = finaldf.select(['recency','frequency','monetary_value','CustomerID']).distinct()"
   ]
  },
  {
   "cell_type": "markdown",
   "metadata": {},
   "source": [
    "# Standardization"
   ]
  },
  {
   "cell_type": "markdown",
   "metadata": {},
   "source": [
    "Before building the customer segmentation model, let’s standardize the dataframe to ensure that all the variables are around the same scale:"
   ]
  },
  {
   "cell_type": "code",
   "execution_count": 22,
   "metadata": {},
   "outputs": [],
   "source": [
    "# scale our data using the stardard scaller\n",
    "\n",
    "# imports\n",
    "from pyspark.ml.feature import VectorAssembler\n",
    "from pyspark.ml.feature import StandardScaler\n",
    "\n",
    "assemble=VectorAssembler(inputCols=[\n",
    "    'recency','frequency','monetary_value'\n",
    "], outputCol='features')\n",
    "\n",
    "# scale\n",
    "\n",
    "assembled_data=assemble.transform(finaldf)\n",
    "\n",
    "scale=StandardScaler(inputCol='features',outputCol='standardized')\n",
    "data_scale=scale.fit(assembled_data)\n",
    "data_scale_output=data_scale.transform(assembled_data)"
   ]
  },
  {
   "cell_type": "code",
   "execution_count": 23,
   "metadata": {},
   "outputs": [
    {
     "name": "stdout",
     "output_type": "stream",
     "text": [
      "+-----------------------------------------------------------+\n",
      "|standardized                                               |\n",
      "+-----------------------------------------------------------+\n",
      "|[0.6860448646904733,0.6848507976304105,0.45968090513788235]|\n",
      "|[0.3172035395880683,0.04891791411645789,0.7122675738936676]|\n",
      "+-----------------------------------------------------------+\n",
      "only showing top 2 rows\n",
      "\n"
     ]
    }
   ],
   "source": [
    "data_scale_output.select('standardized').show(2,truncate=False)"
   ]
  },
  {
   "cell_type": "markdown",
   "metadata": {},
   "source": [
    "# Step 5: Building the Machine Learning Model"
   ]
  },
  {
   "cell_type": "markdown",
   "metadata": {},
   "source": [
    "Now that we have completed all the data analysis and preparation, let’s build the K-Means clustering model. "
   ]
  },
  {
   "cell_type": "markdown",
   "metadata": {},
   "source": [
    "i) **Finding the number of clusters to use**\n",
    "\n",
    "When building a K-Means clustering model, we first need to determine the number of clusters or groups we want the algorithm to return. If we decide on three clusters, for instance, then we will have three customer segments.\n",
    "\n",
    "The most popular technique used to decide on how many clusters to use in K-Means is called the “elbow-method.”\n",
    "\n",
    "This is done simply running the K-Means algorithm for a wide range of clusters and visualizing the model results for each cluster. The plot will have an inflection point that looks like an elbow, and we just pick the number of clusters at this point.\n",
    "\n",
    "\n",
    "Let’s run the following lines of code to build a K-Means clustering algorithm from 2 to 10 clusters:"
   ]
  },
  {
   "cell_type": "code",
   "execution_count": 24,
   "metadata": {},
   "outputs": [],
   "source": [
    "# k-means with 2 - 10 clusters\n",
    "\n",
    "# imports\n",
    "from pyspark.ml.clustering import KMeans\n",
    "from pyspark.ml.evaluation import ClusteringEvaluator\n",
    "import numpy as np\n",
    "\n",
    "cost = np.zeros(10)\n",
    "\n",
    "evaluator = ClusteringEvaluator(predictionCol='prediction', featuresCol='standardized',metricName='silhouette', distanceMeasure='squaredEuclidean')\n",
    "# loop\n",
    "for i in range(2,10):\n",
    "    KMeans_algo=KMeans(featuresCol='standardized', k=i)\n",
    "    KMeans_fit=KMeans_algo.fit(data_scale_output)\n",
    "    output=KMeans_fit.transform(data_scale_output)\n",
    "    cost[i] = KMeans_fit.summary.trainingCost"
   ]
  },
  {
   "cell_type": "markdown",
   "metadata": {},
   "source": [
    "visualizing"
   ]
  },
  {
   "cell_type": "code",
   "execution_count": null,
   "metadata": {},
   "outputs": [
    {
     "data": {
      "image/png": "[encoded data removed]",
      "text/plain": [
       "<Figure size 640x480 with 1 Axes>"
      ]
     },
     "metadata": {},
     "output_type": "display_data"
    }
   ],
   "source": [
    "# visualizing the elbow curve\n",
    "\n",
    "# imports\n",
    "import pandas as pd\n",
    "import pylab as pl\n",
    "\n",
    "\n",
    "df_cost = pd.DataFrame(cost[2:])\n",
    "df_cost.columns = [\"cost\"]\n",
    "new_col = range(2,10)\n",
    "df_cost.insert(0, 'cluster', new_col)\n",
    "\n",
    "# plotting\n",
    "\n",
    "pl.plot(df_cost.cluster, df_cost.cost)\n",
    "pl.xlabel('Number of Clusters')\n",
    "pl.ylabel('Score')\n",
    "pl.title('Elbow Curve')\n",
    "pl.show()\n"
   ]
  },
  {
   "cell_type": "markdown",
   "metadata": {},
   "source": [
    "ii) **Building the K-Means Clustering Model**\n",
    "\n",
    "From the plot above, we can see that there is an inflection point that looks like an elbow at **Four**. Due to this, we will proceed to build the K-Means algorithm with four clusters:"
   ]
  },
  {
   "cell_type": "code",
   "execution_count": null,
   "metadata": {},
   "outputs": [],
   "source": [
    "# k-means with 4 clusters\n",
    "\n",
    "KMeans_algo=KMeans(featuresCol='standardized', k=4)\n",
    "KMeans_fit=KMeans_algo.fit(data_scale_output)"
   ]
  },
  {
   "cell_type": "markdown",
   "metadata": {},
   "source": [
    "iii) **Making Predictions**\n",
    "\n",
    "Let’s use the model we created to assign clusters to each customer in the dataset:"
   ]
  },
  {
   "cell_type": "code",
   "execution_count": null,
   "metadata": {},
   "outputs": [
    {
     "name": "stdout",
     "output_type": "stream",
     "text": [
      "+-------+---------+------------------+----------+---------------------------------+-----------------------------------------------------------+----------+\n",
      "|recency|frequency|monetary_value    |CustomerID|features                         |standardized                                               |prediction|\n",
      "+-------+---------+------------------+----------+---------------------------------+-----------------------------------------------------------+----------+\n",
      "|5580   |14       |226.14            |16250     |[5580.0,14.0,226.14]             |[0.6860448646904733,0.6848507976304105,0.45968090513788235]|1         |\n",
      "|2580   |1        |350.4             |15100     |[2580.0,1.0,350.4]               |[0.3172035395880683,0.04891791411645789,0.7122675738936676]|1         |\n",
      "|30360  |14       |205.85999999999999|13065     |[30360.0,14.0,205.85999999999999]|[3.732674210036339,0.6848507976304105,0.4184571996625297]  |0         |\n",
      "|12660  |59       |390.78999999999985|12838     |[12660.0,59.0,390.78999999999985]|[1.556510391932149,2.8861569328710157,0.7943694212383169]  |3         |\n",
      "|18420  |5        |115.65            |15350     |[18420.0,5.0,115.65]             |[2.264685736128767,0.24458957058228947,0.23508488847261033]|0         |\n",
      "+-------+---------+------------------+----------+---------------------------------+-----------------------------------------------------------+----------+\n",
      "only showing top 5 rows\n",
      "\n"
     ]
    }
   ],
   "source": [
    "# making predictions\n",
    "\n",
    "preds=KMeans_fit.transform(data_scale_output)\n",
    "\n",
    "preds.show(5,0)"
   ]
  },
  {
   "cell_type": "markdown",
   "metadata": {},
   "source": [
    "# Step 6: Cluster Analysis"
   ]
  },
  {
   "cell_type": "code",
   "execution_count": null,
   "metadata": {},
   "outputs": [
    {
     "data": {
      "image/png": "[encoded data removed]",
      "text/plain": [
       "<Figure size 640x480 with 1 Axes>"
      ]
     },
     "metadata": {},
     "output_type": "display_data"
    },
    {
     "data": {
      "image/png": "[encoded data removed]",
      "text/plain": [
       "<Figure size 640x480 with 1 Axes>"
      ]
     },
     "metadata": {},
     "output_type": "display_data"
    },
    {
     "data": {
      "image/png": "[encoded data removed]",
      "text/plain": [
       "<Figure size 640x480 with 1 Axes>"
      ]
     },
     "metadata": {},
     "output_type": "display_data"
    }
   ],
   "source": [
    "# ploting \n",
    "\n",
    "# imports\n",
    "import matplotlib.pyplot as plt\n",
    "import seaborn as sns\n",
    "\n",
    "df_viz = preds.select('recency','frequency','monetary_value','prediction')\n",
    "df_viz = df_viz.toPandas()\n",
    "avg_df = df_viz.groupby(['prediction'], as_index=False).mean()\n",
    "\n",
    "list1 = ['recency','frequency','monetary_value']\n",
    "\n",
    "for i in list1:\n",
    "    sns.barplot(x='prediction',y=str(i),data=avg_df)\n",
    "    plt.show()"
   ]
  },
  {
   "cell_type": "markdown",
   "metadata": {},
   "source": [
    "Here is an overview of characteristics displayed by customers in each cluster:\n",
    "\n",
    "**Cluster 0:** \n",
    "    \n",
    "    Customers in this segment display low recency, frequency, and monetary value. They rarely shop on the platform and are low potential customers who are likely to stop doing business with the ecommerce company.\n",
    "\n",
    "**Cluster 1:** \n",
    "     \n",
    "     Users in this cluster display high recency but haven’t been seen spending much on the platform. They also don’t visit the site often. This indicates that they might be newer customers who have just started doing business with the company.\n",
    "\n",
    "**Cluster 2:** \n",
    "    \n",
    "     Customers in this segment display medium recency and frequency and spend a lot of money on the platform. This indicates that they tend to buy high-value items or make bulk purchases.\n",
    "\n",
    "**Cluster 3:** \n",
    "\n",
    "     The final segment comprises users who display high recency and make frequent purchases on the platform. However, they don’t spend much on the platform, which might mean that they tend to select cheaper items in each purchase.\n",
    "\n"
   ]
  },
  {
   "cell_type": "markdown",
   "metadata": {},
   "source": [
    "# The End"
   ]
  }
 ],
 "metadata": {
  "kernelspec": {
   "display_name": "test",
   "language": "python",
   "name": "python3"
  },
  "language_info": {
   "codemirror_mode": {
    "name": "ipython",
    "version": 3
   },
   "file_extension": ".py",
   "mimetype": "text/x-python",
   "name": "python",
   "nbconvert_exporter": "python",
   "pygments_lexer": "ipython3",
   "version": "3.10.9"
  }
 },
 "nbformat": 4,
 "nbformat_minor": 2
}
